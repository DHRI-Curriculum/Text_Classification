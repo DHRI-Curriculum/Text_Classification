{
 "cells": [
  {
   "cell_type": "markdown",
   "metadata": {},
   "source": [
    "# Test the workflow\n",
    "\n",
    "It seems odd for the decision boundary to be so skewed in one direction, but the data is also heavily skewed and intermixed. Generate a well behaved but identically structered dataset to test that the workflow and visualization are not introducing errors. "
   ]
  },
  {
   "cell_type": "code",
   "execution_count": 1,
   "metadata": {},
   "outputs": [],
   "source": [
    "import pandas as pd\n",
    "import matplotlib.pyplot as plt\n",
    "%matplotlib inline\n",
    "import sklearn\n",
    "import numpy as np\n",
    "\n",
    "from sklearn.svm import LinearSVC\n",
    "from sklearn.model_selection import train_test_split"
   ]
  },
  {
   "cell_type": "code",
   "execution_count": 2,
   "metadata": {},
   "outputs": [],
   "source": [
    "import matplotlib.cm as mcm\n",
    "import matplotlib.colors as mcolors\n",
    "tabcm = mcolors.ListedColormap([mcm.tab20c(0), mcm.tab20c(1), mcm.tab20c(2), mcm.tab20c(3),\n",
    "                                mcm.tab20c(7), mcm.tab20c(6), mcm.tab20c(5), mcm.tab20c(4)])\n",
    "norm = mcolors.Normalize(-7,7) "
   ]
  },
  {
   "cell_type": "code",
   "execution_count": 3,
   "metadata": {},
   "outputs": [],
   "source": [
    "np.random.seed(42)\n",
    "\n",
    "def jitter(arr):\n",
    "    scale = .01*(arr.min() - arr.max())\n",
    "    return arr + np.random.randn(arr.shape[0]) * scale\n",
    "\n",
    "def plot_boundary(ax, clf, Xt, Xs, ys, title):\n",
    "    # using all the data, create a meshgrid for the decision boundary\n",
    "    h = .02\n",
    "    x_min, x_max = Xt['NN'].values.min() - 1, Xt['NN'].values.max() + 1\n",
    "    y_min, y_max = Xt['JJ'].values.min() - 1, Xt['JJ'].values.max() + 1\n",
    "    xx, yy = np.meshgrid(np.arange(x_min, x_max, h), np.arange(y_min, y_max, h))\n",
    "\n",
    "    \n",
    "    # Plot the decision boundary. For that, we will assign a color to each\n",
    "    # point in the mesh [x_min, x_max]x[y_min, y_max].\n",
    "    Z = clf.decision_function(np.c_[xx.ravel(), yy.ravel()])\n",
    "    \n",
    "    # Put the result into a color plot\n",
    "    Z = Z.reshape(xx.shape)\n",
    "    im = ax.contourf(xx, yy, Z, cmap=tabcm, norm=norm, alpha=.5)\n",
    "    \n",
    "    #plot the decision boundary\n",
    "    ax.contour(xx, yy, Z, colors='k', linewidths=3, levels=[-1, 0, 1],\n",
    "               linestyles=['--', '-', '--'], alpha=.5, zorder=20)\n",
    "    \n",
    "    # plot and label the data\n",
    "    ax.scatter(jitter(Xs['NN'][ys==\"news\"]), jitter(Xs['JJ'][ys==\"news\"]), \n",
    "                color=\"tab:blue\", label=\"news\", edgecolor='k', alpha=.5)\n",
    "    ax.scatter(jitter(Xs['NN'][ys==\"romance\"]), jitter(Xs['JJ'][ys==\"romance\"]), \n",
    "               color=\"tab:orange\", label=\"romance\", edgecolor='k', alpha=.5)\n",
    "    \n",
    "   \n",
    "\n",
    "    ax.set_title(title)\n",
    "    ax.set_xlabel(\"nouns\")\n",
    "    ax.set_ylabel(\"adjectives\")\n",
    "    \n",
    "    # set the axes boundaries against the whole dataset\n",
    "    ax.set_xlim(xx.min(), xx.max())\n",
    "    ax.set_ylim(yy.min(), yy.max())\n",
    "    ax.set_xticks(())\n",
    "    ax.set_yticks(())\n",
    "    ax.set_aspect(\"equal\")"
   ]
  },
  {
   "cell_type": "markdown",
   "metadata": {},
   "source": [
    "## 1. Create a test data set where the points are well seperated, "
   ]
  },
  {
   "cell_type": "code",
   "execution_count": 4,
   "metadata": {},
   "outputs": [],
   "source": [
    "from sklearn.datasets import make_classification\n",
    "\n",
    "# generate well seperated data\n",
    "X_dummy, y_dummy = make_classification(n_features=2, n_redundant=0, n_informative=2,\n",
    "                           random_state=1, n_clusters_per_class=1)\n",
    "rng = np.random.RandomState(2)\n",
    "X_dummy += 2 * rng.uniform(size=X_dummy.shape)\n"
   ]
  },
  {
   "cell_type": "markdown",
   "metadata": {},
   "source": [
    "## 2. Package the data into a dataframe structured in the same manner as the real data"
   ]
  },
  {
   "cell_type": "code",
   "execution_count": 5,
   "metadata": {},
   "outputs": [],
   "source": [
    "test_df = pd.DataFrame(({'NN':X_dummy[:,0], 'JJ':X_dummy[:,1], 'lab':y_dummy}))\n",
    "test_df['label'] = test_df['lab'].replace({0:'news', 1:'romance'})"
   ]
  },
  {
   "cell_type": "markdown",
   "metadata": {},
   "source": [
    "## 3. Apply the same workflow as to the real data"
   ]
  },
  {
   "cell_type": "code",
   "execution_count": 6,
   "metadata": {},
   "outputs": [
    {
     "data": {
      "text/plain": [
       "LinearSVC(C=1.0, class_weight=None, dual=True, fit_intercept=True,\n",
       "     intercept_scaling=1, loss='squared_hinge', max_iter=1000,\n",
       "     multi_class='ovr', penalty='l2', random_state=42, tol=0.0001,\n",
       "     verbose=0)"
      ]
     },
     "execution_count": 6,
     "metadata": {},
     "output_type": "execute_result"
    }
   ],
   "source": [
    "X_train_d, X_test_d, y_train_d, y_test_d = train_test_split(test_df[['NN','JJ']], test_df['label'], \n",
    "                                                    test_size=.4, random_state=42)\n",
    "classifier = LinearSVC(random_state=42)\n",
    "classifier.fit(X_train_d, y_train_d)"
   ]
  },
  {
   "cell_type": "code",
   "execution_count": 7,
   "metadata": {},
   "outputs": [
    {
     "data": {
      "text/plain": [
       "0.94999999999999996"
      ]
     },
     "execution_count": 7,
     "metadata": {},
     "output_type": "execute_result"
    }
   ],
   "source": [
    "classifier.score(X_test_d, y_test_d)"
   ]
  },
  {
   "cell_type": "markdown",
   "metadata": {},
   "source": [
    "## Test function with data where the results are known\n",
    "\n",
    "Because the data is well seperated, the decision boundary is expected to fall in the miiddle of the data."
   ]
  },
  {
   "cell_type": "code",
   "execution_count": 8,
   "metadata": {
    "scrolled": true
   },
   "outputs": [
    {
     "data": {
      "image/png": "[encoded data removed]",
      "text/plain": [
       "<Figure size 720x360 with 2 Axes>"
      ]
     },
     "metadata": {},
     "output_type": "display_data"
    }
   ],
   "source": [
    "fig, (ax1, ax2) = plt.subplots(figsize=(10,5), ncols=2)\n",
    "plot_boundary(ax1, classifier, test_df[['NN','JJ']], X_train_d, y_train_d, \"train\")\n",
    "plot_boundary(ax2, classifier, test_df[['NN','JJ']], X_test_d, y_test_d, \"test\")"
   ]
  }
 ],
 "metadata": {
  "kernelspec": {
   "display_name": "Python 3",
   "language": "python",
   "name": "python3"
  },
  "language_info": {
   "codemirror_mode": {
    "name": "ipython",
    "version": 3
   },
   "file_extension": ".py",
   "mimetype": "text/x-python",
   "name": "python",
   "nbconvert_exporter": "python",
   "pygments_lexer": "ipython3",
   "version": "3.6.5"
  }
 },
 "nbformat": 4,
 "nbformat_minor": 2
}
